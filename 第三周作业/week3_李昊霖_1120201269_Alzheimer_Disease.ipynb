{
 "cells": [
  {
   "cell_type": "markdown",
   "id": "abe0a3b8",
   "metadata": {},
   "source": [
    "# 数据挖掘\n",
    "- 第三周\n",
    "- 任务二：Alzheimer Disease and Healthy Aging Data In US\n",
    "- 李昊霖 1120201269"
   ]
  },
  {
   "cell_type": "markdown",
   "id": "ce438abf",
   "metadata": {},
   "source": [
    "## 数据预处理"
   ]
  },
  {
   "cell_type": "code",
   "execution_count": 1,
   "id": "d130a111",
   "metadata": {},
   "outputs": [],
   "source": [
    "import numpy as np\n",
    "import pandas as pd\n",
    "import matplotlib.pyplot as plt"
   ]
  },
  {
   "cell_type": "code",
   "execution_count": 2,
   "id": "08a93b57",
   "metadata": {},
   "outputs": [
    {
     "name": "stdout",
     "output_type": "stream",
     "text": [
      "<class 'pandas.core.frame.DataFrame'>\n",
      "RangeIndex: 214462 entries, 0 to 214461\n",
      "Data columns (total 29 columns):\n",
      " #   Column                     Non-Null Count   Dtype  \n",
      "---  ------                     --------------   -----  \n",
      " 0   YearStart                  214462 non-null  int64  \n",
      " 1   YearEnd                    214462 non-null  int64  \n",
      " 2   LocationAbbr               214462 non-null  object \n",
      " 3   LocationDesc               214462 non-null  object \n",
      " 4   Datasource                 214462 non-null  object \n",
      " 5   Class                      214462 non-null  object \n",
      " 6   Topic                      214462 non-null  object \n",
      " 7   Question                   214462 non-null  object \n",
      " 8   Data_Value_Unit            214462 non-null  object \n",
      " 9   DataValueTypeID            214462 non-null  object \n",
      " 10  Data_Value_Type            214462 non-null  object \n",
      " 11  Data_Value                 144629 non-null  float64\n",
      " 12  Data_Value_Alt             144629 non-null  float64\n",
      " 13  Low_Confidence_Limit       144472 non-null  object \n",
      " 14  High_Confidence_Limit      144472 non-null  object \n",
      " 15  Sample_Size                0 non-null       float64\n",
      " 16  StratificationCategory1    214462 non-null  object \n",
      " 17  Stratification1            214462 non-null  object \n",
      " 18  StratificationCategory2    186793 non-null  object \n",
      " 19  Stratification2            186793 non-null  object \n",
      " 20  Geolocation                191413 non-null  object \n",
      " 21  ClassID                    214462 non-null  object \n",
      " 22  TopicID                    214462 non-null  object \n",
      " 23  QuestionID                 214462 non-null  object \n",
      " 24  LocationID                 214462 non-null  int64  \n",
      " 25  StratificationCategoryID1  214462 non-null  object \n",
      " 26  StratificationID1          214462 non-null  object \n",
      " 27  StratificationCategoryID2  214462 non-null  object \n",
      " 28  StratificationID2          214462 non-null  object \n",
      "dtypes: float64(3), int64(3), object(23)\n",
      "memory usage: 47.5+ MB\n"
     ]
    }
   ],
   "source": [
    "df = pd.read_csv('Alzheimer Disease and Healthy Aging Data In US.csv', low_memory=False)\n",
    "df.info()"
   ]
  },
  {
   "cell_type": "markdown",
   "id": "04b1632e",
   "metadata": {},
   "source": [
    "## 数据摘要与可视化\n",
    "### 标称属性"
   ]
  },
  {
   "cell_type": "markdown",
   "id": "a62ad293",
   "metadata": {},
   "source": [
    "该数据集中的标称属性包括 YearStart, YearEnd, LocationDesc, Datasource, Class, Topic, Data_Value_Unit, DataValueTypeID, StratificationCategory1, ClassID"
   ]
  },
  {
   "cell_type": "code",
   "execution_count": 3,
   "id": "f4649b13",
   "metadata": {},
   "outputs": [
    {
     "data": {
      "text/plain": [
       "2015    45980\n",
       "2020    36006\n",
       "2019    34354\n",
       "2016    34145\n",
       "2017    33429\n",
       "2018    30548\n",
       "Name: YearStart, dtype: int64"
      ]
     },
     "execution_count": 3,
     "metadata": {},
     "output_type": "execute_result"
    }
   ],
   "source": [
    "df['YearStart'].value_counts()"
   ]
  },
  {
   "cell_type": "code",
   "execution_count": 4,
   "id": "7db5ab5e",
   "metadata": {},
   "outputs": [
    {
     "data": {
      "text/plain": [
       "2020    46966\n",
       "2015    35020\n",
       "2019    34354\n",
       "2016    34145\n",
       "2017    33429\n",
       "2018    30548\n",
       "Name: YearEnd, dtype: int64"
      ]
     },
     "execution_count": 4,
     "metadata": {},
     "output_type": "execute_result"
    }
   ],
   "source": [
    "df['YearEnd'].value_counts()"
   ]
  },
  {
   "cell_type": "code",
   "execution_count": 5,
   "id": "14b5fc52",
   "metadata": {},
   "outputs": [
    {
     "data": {
      "text/plain": [
       "United States, DC & Territories    4644\n",
       "West                               4638\n",
       "Northeast                          4614\n",
       "Midwest                            4611\n",
       "Oregon                             4565\n",
       "New York                           4557\n",
       "South                              4542\n",
       "Utah                               4222\n",
       "Ohio                               3955\n",
       "Georgia                            3951\n",
       "Maryland                           3919\n",
       "Hawaii                             3907\n",
       "Tennessee                          3879\n",
       "Michigan                           3796\n",
       "Virginia                           3758\n",
       "Florida                            3753\n",
       "Maine                              3733\n",
       "Texas                              3699\n",
       "Nevada                             3696\n",
       "District of Columbia               3684\n",
       "West Virginia                      3682\n",
       "Mississippi                        3677\n",
       "Pennsylvania                       3648\n",
       "New Mexico                         3635\n",
       "Alabama                            3633\n",
       "Kentucky                           3623\n",
       "Alaska                             3611\n",
       "South Carolina                     3592\n",
       "New Jersey                         3589\n",
       "Arizona                            3582\n",
       "Missouri                           3573\n",
       "Illinois                           3571\n",
       "Indiana                            3570\n",
       "Wisconsin                          3569\n",
       "Louisiana                          3563\n",
       "Minnesota                          3555\n",
       "Nebraska                           3546\n",
       "Connecticut                        3543\n",
       "Rhode Island                       3534\n",
       "Oklahoma                           3526\n",
       "South Dakota                       3526\n",
       "North Dakota                       3514\n",
       "Kansas                             3510\n",
       "Idaho                              3507\n",
       "Iowa                               3501\n",
       "Arkansas                           3498\n",
       "Wyoming                            3494\n",
       "California                         3447\n",
       "Colorado                           3390\n",
       "North Carolina                     3349\n",
       "Washington                         3348\n",
       "Montana                            3348\n",
       "Delaware                           3346\n",
       "New Hampshire                      3284\n",
       "Vermont                            3278\n",
       "Massachusetts                      3174\n",
       "Puerto Rico                        2797\n",
       "Guam                               2703\n",
       "Virgin Islands                      503\n",
       "Name: LocationDesc, dtype: int64"
      ]
     },
     "execution_count": 5,
     "metadata": {},
     "output_type": "execute_result"
    }
   ],
   "source": [
    "df['LocationDesc'].value_counts()"
   ]
  },
  {
   "cell_type": "code",
   "execution_count": 6,
   "id": "c600ac77",
   "metadata": {},
   "outputs": [
    {
     "data": {
      "text/plain": [
       "BRFSS    214462\n",
       "Name: Datasource, dtype: int64"
      ]
     },
     "execution_count": 6,
     "metadata": {},
     "output_type": "execute_result"
    }
   ],
   "source": [
    "df['Datasource'].value_counts()"
   ]
  },
  {
   "cell_type": "code",
   "execution_count": 7,
   "id": "0dd7a269",
   "metadata": {},
   "outputs": [
    {
     "data": {
      "text/plain": [
       "Overall Health                         71694\n",
       "Screenings and Vaccines                46867\n",
       "Nutrition/Physical Activity/Obesity    24851\n",
       "Cognitive Decline                      19180\n",
       "Caregiving                             18671\n",
       "Mental Health                          16600\n",
       "Smoking and Alcohol Use                16599\n",
       "Name: Class, dtype: int64"
      ]
     },
     "execution_count": 7,
     "metadata": {},
     "output_type": "execute_result"
    }
   ],
   "source": [
    "df['Class'].value_counts()"
   ]
  },
  {
   "cell_type": "code",
   "execution_count": 8,
   "id": "030b7add",
   "metadata": {},
   "outputs": [
    {
     "data": {
      "text/plain": [
       "Obesity                                                                                                   8300\n",
       "Influenza vaccine within past year                                                                        8300\n",
       "Physically unhealthy days (mean number of days)                                                           8300\n",
       "Frequent mental distress                                                                                  8300\n",
       "Current smoking                                                                                           8300\n",
       "Lifetime diagnosis of depression                                                                          8300\n",
       "No leisure-time physical activity within past month                                                       8300\n",
       "Self-rated health (fair to poor health)                                                                   8299\n",
       "Self-rated health (good to excellent health)                                                              8299\n",
       "Binge drinking within past 30 days                                                                        8299\n",
       "Ever had pneumococcal vaccine                                                                             8268\n",
       "Recent activity limitations in past month                                                                 8233\n",
       "Disability status, including sensory or mobility limitations                                              6917\n",
       "Arthritis among older adults                                                                              5511\n",
       "Fair or poor health among older adults with arthritis                                                     5447\n",
       "Subjective cognitive decline or memory loss among older adults                                            5088\n",
       "Diabetes screening within past 3 years                                                                    4808\n",
       "Talked with health care professional about subjective cognitive decline or memory loss                    4700\n",
       "Need assistance with day-to-day activities because of subjective cognitive decline or memory loss         4696\n",
       "Functional difficulties associated with subjective cognitive decline or memory loss among older adults    4696\n",
       "Fall with injury within last year                                                                         4173\n",
       "Colorectal cancer screening                                                                               4173\n",
       "Oral health:  tooth retention                                                                             4172\n",
       "Prevalence of sufficient sleep                                                                            4171\n",
       "Eating 3 or more vegetables daily                                                                         4127\n",
       "High blood pressure ever                                                                                  4127\n",
       "Cholesterol checked in past 5 years                                                                       4127\n",
       "Eating 2 or more fruits daily                                                                             4124\n",
       "Taking medication for high blood pressure                                                                 4108\n",
       "Severe joint pain among older adults with arthritis                                                       4064\n",
       "Provide care for a friend or family member in past month                                                  3848\n",
       "Expect to provide care for someone in the next two years                                                  3797\n",
       "Provide care for someone with cognitive impairment within the past month                                  3682\n",
       "Duration of caregiving among older adults                                                                 3681\n",
       "Intensity of caregiving among older adults                                                                3663\n",
       "Up-to-date with recommended vaccines and screenings - Women                                               3280\n",
       "Up-to-date with recommended vaccines and screenings - Men                                                 3271\n",
       "Mammogram within past 2 years                                                                             3271\n",
       "Pap test within past 3 years                                                                              3242\n",
       "Name: Topic, dtype: int64"
      ]
     },
     "execution_count": 8,
     "metadata": {},
     "output_type": "execute_result"
    }
   ],
   "source": [
    "df['Topic'].value_counts()"
   ]
  },
  {
   "cell_type": "code",
   "execution_count": 9,
   "id": "9a1f320c",
   "metadata": {},
   "outputs": [
    {
     "data": {
      "text/plain": [
       "%         197929\n",
       "Number     16533\n",
       "Name: Data_Value_Unit, dtype: int64"
      ]
     },
     "execution_count": 9,
     "metadata": {},
     "output_type": "execute_result"
    }
   ],
   "source": [
    "df['Data_Value_Unit'].value_counts()"
   ]
  },
  {
   "cell_type": "code",
   "execution_count": 10,
   "id": "30bf6873",
   "metadata": {},
   "outputs": [
    {
     "data": {
      "text/plain": [
       "PRCTG    197929\n",
       "MEAN      16533\n",
       "Name: DataValueTypeID, dtype: int64"
      ]
     },
     "execution_count": 10,
     "metadata": {},
     "output_type": "execute_result"
    }
   ],
   "source": [
    "df['DataValueTypeID'].value_counts()"
   ]
  },
  {
   "cell_type": "code",
   "execution_count": 11,
   "id": "7869fc42",
   "metadata": {},
   "outputs": [
    {
     "data": {
      "text/plain": [
       "Age Group    214462\n",
       "Name: StratificationCategory1, dtype: int64"
      ]
     },
     "execution_count": 11,
     "metadata": {},
     "output_type": "execute_result"
    }
   ],
   "source": [
    "df['StratificationCategory1'].value_counts()"
   ]
  },
  {
   "cell_type": "code",
   "execution_count": 12,
   "id": "7e03a30a",
   "metadata": {},
   "outputs": [
    {
     "data": {
      "text/plain": [
       "C01    71694\n",
       "C03    46867\n",
       "C02    24851\n",
       "C06    19180\n",
       "C07    18671\n",
       "C05    16600\n",
       "C04    16599\n",
       "Name: ClassID, dtype: int64"
      ]
     },
     "execution_count": 12,
     "metadata": {},
     "output_type": "execute_result"
    }
   ],
   "source": [
    "df['ClassID'].value_counts()"
   ]
  },
  {
   "cell_type": "markdown",
   "id": "34f38cb9",
   "metadata": {},
   "source": [
    "### 数值属性"
   ]
  },
  {
   "cell_type": "markdown",
   "id": "303293a6",
   "metadata": {},
   "source": [
    "要给出5数概括以及缺失值的个数\n",
    "\n",
    "属性为Data_Value, Data_Value_Alt, "
   ]
  },
  {
   "cell_type": "code",
   "execution_count": 13,
   "id": "aa91183d",
   "metadata": {},
   "outputs": [
    {
     "name": "stdout",
     "output_type": "stream",
     "text": [
      "count    144629.000000\n",
      "mean         37.341956\n",
      "std          25.183017\n",
      "min           0.000000\n",
      "25%          15.300000\n",
      "50%          32.500000\n",
      "75%          56.800000\n",
      "max         100.000000\n",
      "Name: Data_Value, dtype: float64\n",
      "缺失值的个数： 69833\n"
     ]
    }
   ],
   "source": [
    "print(df['Data_Value'].describe())\n",
    "print(f\"缺失值的个数： {df['Data_Value'].isnull().sum()}\")"
   ]
  },
  {
   "cell_type": "code",
   "execution_count": 14,
   "id": "62f6f2b0",
   "metadata": {},
   "outputs": [
    {
     "name": "stdout",
     "output_type": "stream",
     "text": [
      "count    144629.000000\n",
      "mean         37.341956\n",
      "std          25.183017\n",
      "min           0.000000\n",
      "25%          15.300000\n",
      "50%          32.500000\n",
      "75%          56.800000\n",
      "max         100.000000\n",
      "Name: Data_Value_Alt, dtype: float64\n",
      "缺失值的个数： 69833\n"
     ]
    }
   ],
   "source": [
    "print(df['Data_Value_Alt'].describe())\n",
    "print(f\"缺失值的个数： {df['Data_Value_Alt'].isnull().sum()}\")"
   ]
  },
  {
   "cell_type": "code",
   "execution_count": 15,
   "id": "4a98e9ca",
   "metadata": {},
   "outputs": [
    {
     "name": "stdout",
     "output_type": "stream",
     "text": [
      "count    144453.000000\n",
      "mean         32.736785\n",
      "std          24.231769\n",
      "min           0.000000\n",
      "25%          12.000000\n",
      "50%          26.900000\n",
      "75%          49.100000\n",
      "max          99.600000\n",
      "Name: Low_Confidence_Limit, dtype: float64\n",
      "缺失值的个数： 70009\n"
     ]
    }
   ],
   "source": [
    "lcl = pd.to_numeric(df['Low_Confidence_Limit'], errors='coerce')\n",
    "print(lcl.describe())\n",
    "print(f\"缺失值的个数： {lcl.isnull().sum()}\")"
   ]
  },
  {
   "cell_type": "code",
   "execution_count": 16,
   "id": "5723b3cd",
   "metadata": {},
   "outputs": [
    {
     "name": "stdout",
     "output_type": "stream",
     "text": [
      "count    144453.000000\n",
      "mean         42.244436\n",
      "std          26.172356\n",
      "min           1.400000\n",
      "25%          19.000000\n",
      "50%          38.500000\n",
      "75%          64.700000\n",
      "max         100.000000\n",
      "Name: High_Confidence_Limit, dtype: float64\n",
      "缺失值的个数： 70009\n"
     ]
    }
   ],
   "source": [
    "hcl = pd.to_numeric(df['High_Confidence_Limit'], errors='coerce')\n",
    "print(hcl.describe())\n",
    "print(f\"缺失值的个数： {hcl.isnull().sum()}\")"
   ]
  },
  {
   "cell_type": "code",
   "execution_count": 17,
   "id": "e3fab30f",
   "metadata": {},
   "outputs": [
    {
     "data": {
      "text/plain": [
       "<AxesSubplot: ylabel='Frequency'>"
      ]
     },
     "execution_count": 17,
     "metadata": {},
     "output_type": "execute_result"
    },
    {
     "data": {
      "image/png": "[encoded data removed]",
      "text/plain": [
       "<Figure size 640x480 with 1 Axes>"
      ]
     },
     "metadata": {},
     "output_type": "display_data"
    }
   ],
   "source": [
    "df['Data_Value'].plot(kind='hist')"
   ]
  },
  {
   "cell_type": "code",
   "execution_count": 18,
   "id": "84660655",
   "metadata": {},
   "outputs": [
    {
     "data": {
      "text/plain": [
       "<AxesSubplot: >"
      ]
     },
     "execution_count": 18,
     "metadata": {},
     "output_type": "execute_result"
    },
    {
     "data": {
      "image/png": "[encoded data removed]",
      "text/plain": [
       "<Figure size 640x480 with 1 Axes>"
      ]
     },
     "metadata": {},
     "output_type": "display_data"
    }
   ],
   "source": [
    "df['Data_Value'].plot(kind='box')"
   ]
  },
  {
   "cell_type": "code",
   "execution_count": 19,
   "id": "6e5211ea",
   "metadata": {},
   "outputs": [
    {
     "data": {
      "text/plain": [
       "<AxesSubplot: ylabel='Frequency'>"
      ]
     },
     "execution_count": 19,
     "metadata": {},
     "output_type": "execute_result"
    },
    {
     "data": {
      "image/png": "[encoded data removed]",
      "text/plain": [
       "<Figure size 640x480 with 1 Axes>"
      ]
     },
     "metadata": {},
     "output_type": "display_data"
    }
   ],
   "source": [
    "df['Data_Value_Alt'].plot(kind='hist')"
   ]
  },
  {
   "cell_type": "code",
   "execution_count": 20,
   "id": "e05c5179",
   "metadata": {},
   "outputs": [
    {
     "data": {
      "text/plain": [
       "<AxesSubplot: >"
      ]
     },
     "execution_count": 20,
     "metadata": {},
     "output_type": "execute_result"
    },
    {
     "data": {
      "image/png": "[encoded data removed]",
      "text/plain": [
       "<Figure size 640x480 with 1 Axes>"
      ]
     },
     "metadata": {},
     "output_type": "display_data"
    }
   ],
   "source": [
    "df['Data_Value_Alt'].plot(kind='box')"
   ]
  },
  {
   "cell_type": "code",
   "execution_count": 21,
   "id": "2ce6990b",
   "metadata": {},
   "outputs": [
    {
     "data": {
      "text/plain": [
       "<AxesSubplot: ylabel='Frequency'>"
      ]
     },
     "execution_count": 21,
     "metadata": {},
     "output_type": "execute_result"
    },
    {
     "data": {
      "image/png": "[encoded data removed]",
      "text/plain": [
       "<Figure size 640x480 with 1 Axes>"
      ]
     },
     "metadata": {},
     "output_type": "display_data"
    }
   ],
   "source": [
    "lcl.plot(kind='hist')"
   ]
  },
  {
   "cell_type": "code",
   "execution_count": 22,
   "id": "8af7b59e",
   "metadata": {},
   "outputs": [
    {
     "data": {
      "text/plain": [
       "<AxesSubplot: >"
      ]
     },
     "execution_count": 22,
     "metadata": {},
     "output_type": "execute_result"
    },
    {
     "data": {
      "image/png": "[encoded data removed]",
      "text/plain": [
       "<Figure size 640x480 with 1 Axes>"
      ]
     },
     "metadata": {},
     "output_type": "display_data"
    }
   ],
   "source": [
    "lcl.plot(kind='box')"
   ]
  },
  {
   "cell_type": "code",
   "execution_count": 23,
   "id": "1cc8f50c",
   "metadata": {},
   "outputs": [
    {
     "data": {
      "text/plain": [
       "<AxesSubplot: ylabel='Frequency'>"
      ]
     },
     "execution_count": 23,
     "metadata": {},
     "output_type": "execute_result"
    },
    {
     "data": {
      "image/png": "[encoded data removed]",
      "text/plain": [
       "<Figure size 640x480 with 1 Axes>"
      ]
     },
     "metadata": {},
     "output_type": "display_data"
    }
   ],
   "source": [
    "hcl.plot(kind='hist')"
   ]
  },
  {
   "cell_type": "code",
   "execution_count": 24,
   "id": "a27dac0f",
   "metadata": {},
   "outputs": [
    {
     "data": {
      "text/plain": [
       "<AxesSubplot: >"
      ]
     },
     "execution_count": 24,
     "metadata": {},
     "output_type": "execute_result"
    },
    {
     "data": {
      "image/png": "[encoded data removed]",
      "text/plain": [
       "<Figure size 640x480 with 1 Axes>"
      ]
     },
     "metadata": {},
     "output_type": "display_data"
    }
   ],
   "source": [
    "hcl.plot(kind='box')"
   ]
  },
  {
   "cell_type": "markdown",
   "id": "c9a01ca4",
   "metadata": {},
   "source": [
    "## 缺失数据处理"
   ]
  },
  {
   "cell_type": "code",
   "execution_count": 25,
   "id": "27b33189",
   "metadata": {},
   "outputs": [
    {
     "data": {
      "text/plain": [
       "YearStart                         0\n",
       "YearEnd                           0\n",
       "LocationAbbr                      0\n",
       "LocationDesc                      0\n",
       "Datasource                        0\n",
       "Class                             0\n",
       "Topic                             0\n",
       "Question                          0\n",
       "Data_Value_Unit                   0\n",
       "DataValueTypeID                   0\n",
       "Data_Value_Type                   0\n",
       "Data_Value                    69833\n",
       "Data_Value_Alt                69833\n",
       "Low_Confidence_Limit          69990\n",
       "High_Confidence_Limit         69990\n",
       "Sample_Size                  214462\n",
       "StratificationCategory1           0\n",
       "Stratification1                   0\n",
       "StratificationCategory2       27669\n",
       "Stratification2               27669\n",
       "Geolocation                   23049\n",
       "ClassID                           0\n",
       "TopicID                           0\n",
       "QuestionID                        0\n",
       "LocationID                        0\n",
       "StratificationCategoryID1         0\n",
       "StratificationID1                 0\n",
       "StratificationCategoryID2         0\n",
       "StratificationID2                 0\n",
       "dtype: int64"
      ]
     },
     "execution_count": 25,
     "metadata": {},
     "output_type": "execute_result"
    }
   ],
   "source": [
    "df.isnull().sum()"
   ]
  },
  {
   "cell_type": "markdown",
   "id": "ec3f6979",
   "metadata": {},
   "source": [
    "可以看到缺失值主要为集中在7个属性上，将其中的data_value属性删除"
   ]
  },
  {
   "cell_type": "code",
   "execution_count": 26,
   "id": "4a29af5b",
   "metadata": {
    "scrolled": false
   },
   "outputs": [
    {
     "data": {
      "text/plain": [
       "YearStart                         0\n",
       "YearEnd                           0\n",
       "LocationAbbr                      0\n",
       "LocationDesc                      0\n",
       "Datasource                        0\n",
       "Class                             0\n",
       "Topic                             0\n",
       "Question                          0\n",
       "Data_Value_Unit                   0\n",
       "DataValueTypeID                   0\n",
       "Data_Value_Type                   0\n",
       "Data_Value                        0\n",
       "Data_Value_Alt                    0\n",
       "Low_Confidence_Limit            157\n",
       "High_Confidence_Limit           157\n",
       "Sample_Size                  144629\n",
       "StratificationCategory1           0\n",
       "Stratification1                   0\n",
       "StratificationCategory2       27596\n",
       "Stratification2               27596\n",
       "Geolocation                   22720\n",
       "ClassID                           0\n",
       "TopicID                           0\n",
       "QuestionID                        0\n",
       "LocationID                        0\n",
       "StratificationCategoryID1         0\n",
       "StratificationID1                 0\n",
       "StratificationCategoryID2         0\n",
       "StratificationID2                 0\n",
       "dtype: int64"
      ]
     },
     "execution_count": 26,
     "metadata": {},
     "output_type": "execute_result"
    }
   ],
   "source": [
    "df = df.dropna(subset=['Data_Value'])\n",
    "df.isnull().sum()"
   ]
  },
  {
   "cell_type": "markdown",
   "id": "310f848b",
   "metadata": {},
   "source": [
    "可以发现，主要的属性的缺失值变少了"
   ]
  },
  {
   "cell_type": "code",
   "execution_count": null,
   "id": "1fbfdad4",
   "metadata": {},
   "outputs": [],
   "source": []
  }
 ],
 "metadata": {
  "kernelspec": {
   "display_name": "deeplr",
   "language": "python",
   "name": "deeplr"
  },
  "language_info": {
   "codemirror_mode": {
    "name": "ipython",
    "version": 3
   },
   "file_extension": ".py",
   "mimetype": "text/x-python",
   "name": "python",
   "nbconvert_exporter": "python",
   "pygments_lexer": "ipython3",
   "version": "3.9.15"
  }
 },
 "nbformat": 4,
 "nbformat_minor": 5
}
