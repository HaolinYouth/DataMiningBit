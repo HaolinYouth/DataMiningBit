{
 "cells": [
  {
   "cell_type": "markdown",
   "id": "51903c85",
   "metadata": {},
   "source": [
    "# 数据挖掘\n",
    "## 第三周\n",
    "## 任务一：Movies Dataset from Pirated Sites\n",
    "李昊霖\n",
    "1120201269"
   ]
  },
  {
   "cell_type": "markdown",
   "id": "3ddda632",
   "metadata": {},
   "source": [
    "# 一、数据摘要和可视化"
   ]
  },
  {
   "cell_type": "markdown",
   "id": "abbb3300",
   "metadata": {},
   "source": [
    "## 1.1数据预处理"
   ]
  },
  {
   "cell_type": "code",
   "execution_count": 1,
   "id": "1a2e23cc",
   "metadata": {},
   "outputs": [],
   "source": [
    "import pandas as pd\n",
    "import numpy as np\n",
    "import matplotlib.pyplot as plt"
   ]
  },
  {
   "cell_type": "code",
   "execution_count": 2,
   "id": "41298c67",
   "metadata": {},
   "outputs": [],
   "source": [
    "# 数据集路径\n",
    "datadir = \"movies_dataset.csv\"\n",
    "\n",
    "# 读取数据\n",
    "df = pd.read_csv(datadir, index_col=0)"
   ]
  },
  {
   "cell_type": "code",
   "execution_count": 3,
   "id": "5fc5b7da",
   "metadata": {},
   "outputs": [
    {
     "data": {
      "text/plain": [
       "372090    402\n",
       "371744    402\n",
       "371877    402\n",
       "372092    202\n",
       "371991    202\n",
       "         ... \n",
       "303381      1\n",
       "303380      1\n",
       "303379      1\n",
       "303377      1\n",
       "30459       1\n",
       "Name: id, Length: 17086, dtype: int64"
      ]
     },
     "execution_count": 3,
     "metadata": {},
     "output_type": "execute_result"
    }
   ],
   "source": [
    "# 去除重复的数据\n",
    "# 按照id属性进行观察\n",
    "count_id = df['id'].value_counts()\n",
    "count_id"
   ]
  },
  {
   "cell_type": "code",
   "execution_count": 4,
   "id": "7426aaa0",
   "metadata": {},
   "outputs": [
    {
     "name": "stdout",
     "output_type": "stream",
     "text": [
      "<class 'pandas.core.frame.DataFrame'>\n",
      "Int64Index: 17086 entries, 1 to 20547\n",
      "Data columns (total 14 columns):\n",
      " #   Column           Non-Null Count  Dtype  \n",
      "---  ------           --------------  -----  \n",
      " 0   IMDb-rating      16609 non-null  float64\n",
      " 1   appropriate_for  9809 non-null   object \n",
      " 2   director         15520 non-null  object \n",
      " 3   downloads        17085 non-null  object \n",
      " 4   id               17086 non-null  int64  \n",
      " 5   industry         17085 non-null  object \n",
      " 6   language         16552 non-null  object \n",
      " 7   posted_date      17085 non-null  object \n",
      " 8   release_date     17085 non-null  object \n",
      " 9   run_time         16086 non-null  object \n",
      " 10  storyline        15764 non-null  object \n",
      " 11  title            17085 non-null  object \n",
      " 12  views            17085 non-null  object \n",
      " 13  writer           15266 non-null  object \n",
      "dtypes: float64(1), int64(1), object(12)\n",
      "memory usage: 2.0+ MB\n"
     ]
    }
   ],
   "source": [
    "# 分析之后，是同一个电影的数据多次添加来的，所以只需要保存最后一次的数据就行\n",
    "data = df.drop_duplicates(subset='id', keep='last', inplace=False)\n",
    "data.info()"
   ]
  },
  {
   "cell_type": "markdown",
   "id": "bc742f68",
   "metadata": {},
   "source": [
    "## 1.2数据摘要"
   ]
  },
  {
   "cell_type": "markdown",
   "id": "349c337b",
   "metadata": {},
   "source": [
    "- 标称属性"
   ]
  },
  {
   "cell_type": "markdown",
   "id": "c4cf5ea6",
   "metadata": {},
   "source": [
    "该数据集的标称属性包括：appropriate_for, director, industry, language, writer  \n",
    "\n",
    "接下来对其中的每一个属性进行分析"
   ]
  },
  {
   "cell_type": "code",
   "execution_count": 5,
   "id": "140dfb12",
   "metadata": {},
   "outputs": [
    {
     "data": {
      "text/plain": [
       "R                 3752\n",
       "Not Rated         2132\n",
       "PG-13             1763\n",
       "PG                 884\n",
       "TV-MA              406\n",
       "TV-14              293\n",
       "G                  140\n",
       "Unrated            132\n",
       "TV-PG              115\n",
       "TV-G                99\n",
       "TV-Y7               44\n",
       "TV-Y                25\n",
       "Approved             9\n",
       "NC-17                4\n",
       "TV-Y7-FV             3\n",
       "Passed               3\n",
       "MA-17                1\n",
       "TV-13                1\n",
       "Drama                1\n",
       "Drama, Romance       1\n",
       "18+                  1\n",
       "Name: appropriate_for, dtype: int64"
      ]
     },
     "execution_count": 5,
     "metadata": {},
     "output_type": "execute_result"
    }
   ],
   "source": [
    "# appropriate_for\n",
    "appropriate_for_data = data[\"appropriate_for\"].value_counts()\n",
    "appropriate_for_data"
   ]
  },
  {
   "cell_type": "code",
   "execution_count": 6,
   "id": "d6b3f4f0",
   "metadata": {},
   "outputs": [
    {
     "data": {
      "text/plain": [
       "David Dhawan                   32\n",
       "Ram Gopal Varma                27\n",
       "Vikram Bhatt                   25\n",
       "Steven Spielberg               24\n",
       "Priyadarshan                   22\n",
       "                               ..\n",
       "Sujeeth                         1\n",
       "Shonali Bose                    1\n",
       "Thurop Van Orman, John Rice     1\n",
       "David Guy Levy                  1\n",
       "Bimal Roy                       1\n",
       "Name: director, Length: 9672, dtype: int64"
      ]
     },
     "execution_count": 6,
     "metadata": {},
     "output_type": "execute_result"
    }
   ],
   "source": [
    "# director\n",
    "director_for_data = data[\"director\"].value_counts()\n",
    "director_for_data"
   ]
  },
  {
   "cell_type": "code",
   "execution_count": 7,
   "id": "30aa7dae",
   "metadata": {},
   "outputs": [
    {
     "data": {
      "text/plain": [
       "Hollywood / English    12197\n",
       "Bollywood / Indian      2420\n",
       "Anime / Kids            1028\n",
       "Tollywood                769\n",
       "Punjabi                  331\n",
       "Stage shows              124\n",
       "Pakistani                 92\n",
       "Wrestling                 78\n",
       "Dub / Dual Audio          45\n",
       "3D Movies                  1\n",
       "Name: industry, dtype: int64"
      ]
     },
     "execution_count": 7,
     "metadata": {},
     "output_type": "execute_result"
    }
   ],
   "source": [
    "# industry\n",
    "industry_for_data = data[\"industry\"].value_counts()\n",
    "industry_for_data"
   ]
  },
  {
   "cell_type": "code",
   "execution_count": 8,
   "id": "bfe177fc",
   "metadata": {},
   "outputs": [
    {
     "data": {
      "text/plain": [
       "English                                    10052\n",
       "Hindi                                       1938\n",
       "English,Spanish                              388\n",
       "Punjabi                                      309\n",
       "Telugu                                       297\n",
       "                                           ...  \n",
       "English,Spanish,Armenian                       1\n",
       "Bosnian,English,Croatian,German,Serbian        1\n",
       "English,Korean,Spanish                         1\n",
       "Norwegian,Swedish                              1\n",
       "Spanish,German,English                         1\n",
       "Name: language, Length: 1168, dtype: int64"
      ]
     },
     "execution_count": 8,
     "metadata": {},
     "output_type": "execute_result"
    }
   ],
   "source": [
    "# language\n",
    "language_for_data = data[\"language\"].value_counts()\n",
    "language_for_data"
   ]
  },
  {
   "cell_type": "code",
   "execution_count": 9,
   "id": "2ee51129",
   "metadata": {},
   "outputs": [
    {
     "data": {
      "text/plain": [
       "Andrew Jones                                                   11\n",
       "Dheeraj Rattan                                                 11\n",
       "Naresh Kathuria                                                11\n",
       "Jagdeep Singh                                                  10\n",
       "Justin Lee                                                     10\n",
       "                                                               ..\n",
       "Paul Flannery, David Ryan Keith                                 1\n",
       "Anil Ravipudi, G. Adi Narayana, Narra Praveen                   1\n",
       "Raj Kumar Gupta                                                 1\n",
       "Camille Thomasson                                               1\n",
       "Rajinder Singh Bedi, Saratchandra Chatterjee, Nabendu Ghosh     1\n",
       "Name: writer, Length: 13603, dtype: int64"
      ]
     },
     "execution_count": 9,
     "metadata": {},
     "output_type": "execute_result"
    }
   ],
   "source": [
    "# writer\n",
    "writer_for_data = data[\"writer\"].value_counts()\n",
    "writer_for_data"
   ]
  },
  {
   "cell_type": "markdown",
   "id": "18d9adb7",
   "metadata": {},
   "source": [
    "- 数值属性"
   ]
  },
  {
   "cell_type": "markdown",
   "id": "25523ca5",
   "metadata": {},
   "source": [
    "要给出5数概括以及缺失值的个数\n",
    "\n",
    "属性为IMDb-rating, downloads, run_time, views"
   ]
  },
  {
   "cell_type": "code",
   "execution_count": 10,
   "id": "f8e4d75f",
   "metadata": {},
   "outputs": [
    {
     "name": "stdout",
     "output_type": "stream",
     "text": [
      "count    16609.000000\n",
      "mean         5.596442\n",
      "std          1.281091\n",
      "min          1.100000\n",
      "25%          4.700000\n",
      "50%          5.700000\n",
      "75%          6.500000\n",
      "max          9.900000\n",
      "Name: IMDb-rating, dtype: float64\n",
      "缺失值的个数： 477\n"
     ]
    }
   ],
   "source": [
    "# IMDb-rating\n",
    "print(data[\"IMDb-rating\"].describe())\n",
    "print(f\"缺失值的个数： {data['IMDb-rating'].isnull().sum()}\")"
   ]
  },
  {
   "cell_type": "code",
   "execution_count": 11,
   "id": "c9ecad24",
   "metadata": {},
   "outputs": [
    {
     "name": "stdout",
     "output_type": "stream",
     "text": [
      "count     17085.000000\n",
      "mean      12575.807609\n",
      "std       25542.926019\n",
      "min           0.000000\n",
      "25%        1287.000000\n",
      "50%        3757.000000\n",
      "75%       12224.000000\n",
      "max      391272.000000\n",
      "Name: downloads, dtype: float64\n",
      "缺失值的个数： 1\n"
     ]
    }
   ],
   "source": [
    "# downloads\n",
    "downloads_data = data['downloads'].str.replace(',', '').astype(float)\n",
    "print(downloads_data.describe())\n",
    "print(f\"缺失值的个数： {downloads_data.isnull().sum()}\")"
   ]
  },
  {
   "cell_type": "code",
   "execution_count": 12,
   "id": "51ba19df",
   "metadata": {},
   "outputs": [
    {
     "name": "stdout",
     "output_type": "stream",
     "text": [
      "count    1.708500e+04\n",
      "mean     4.105073e+04\n",
      "std      6.704179e+04\n",
      "min      6.670000e+02\n",
      "25%      9.899000e+03\n",
      "50%      1.920700e+04\n",
      "75%      4.370000e+04\n",
      "max      1.638533e+06\n",
      "Name: views, dtype: float64\n",
      "缺失值的个数： 1\n"
     ]
    }
   ],
   "source": [
    "# views\n",
    "view_data = data['views'].str.replace(',', '').astype(float)\n",
    "print(view_data.describe())\n",
    "print(f\"缺失值的个数： {view_data.isnull().sum()}\")"
   ]
  },
  {
   "cell_type": "markdown",
   "id": "8d8b8c85",
   "metadata": {},
   "source": [
    "- 数据可视化"
   ]
  },
  {
   "cell_type": "code",
   "execution_count": 14,
   "id": "b54f0c3a",
   "metadata": {},
   "outputs": [
    {
     "data": {
      "text/plain": [
       "<AxesSubplot: ylabel='Frequency'>"
      ]
     },
     "execution_count": 14,
     "metadata": {},
     "output_type": "execute_result"
    },
    {
     "data": {
      "image/png": "[encoded data removed]",
      "text/plain": [
       "<Figure size 640x480 with 1 Axes>"
      ]
     },
     "metadata": {},
     "output_type": "display_data"
    }
   ],
   "source": [
    "# IMDb-rating 直方图\n",
    "data['IMDb-rating'].plot(kind='hist')"
   ]
  },
  {
   "cell_type": "code",
   "execution_count": 15,
   "id": "6516280c",
   "metadata": {},
   "outputs": [
    {
     "data": {
      "text/plain": [
       "<AxesSubplot: >"
      ]
     },
     "execution_count": 15,
     "metadata": {},
     "output_type": "execute_result"
    },
    {
     "data": {
      "image/png": "[encoded data removed]",
      "text/plain": [
       "<Figure size 640x480 with 1 Axes>"
      ]
     },
     "metadata": {},
     "output_type": "display_data"
    }
   ],
   "source": [
    "# IMDb-rating 盒图\n",
    "data['IMDb-rating'].plot(kind='box')"
   ]
  },
  {
   "cell_type": "code",
   "execution_count": 17,
   "id": "0d96a974",
   "metadata": {},
   "outputs": [
    {
     "data": {
      "text/plain": [
       "<AxesSubplot: ylabel='Frequency'>"
      ]
     },
     "execution_count": 17,
     "metadata": {},
     "output_type": "execute_result"
    },
    {
     "data": {
      "image/png": "[encoded data removed]",
      "text/plain": [
       "<Figure size 640x480 with 1 Axes>"
      ]
     },
     "metadata": {},
     "output_type": "display_data"
    }
   ],
   "source": [
    "downloads_data.plot(kind=\"hist\")"
   ]
  },
  {
   "cell_type": "code",
   "execution_count": 18,
   "id": "00f8221e",
   "metadata": {},
   "outputs": [
    {
     "data": {
      "text/plain": [
       "<AxesSubplot: >"
      ]
     },
     "execution_count": 18,
     "metadata": {},
     "output_type": "execute_result"
    },
    {
     "data": {
      "image/png": "[encoded data removed]",
      "text/plain": [
       "<Figure size 640x480 with 1 Axes>"
      ]
     },
     "metadata": {},
     "output_type": "display_data"
    }
   ],
   "source": [
    "downloads_data.plot(kind=\"box\")"
   ]
  },
  {
   "cell_type": "code",
   "execution_count": 19,
   "id": "2702be9c",
   "metadata": {},
   "outputs": [
    {
     "data": {
      "text/plain": [
       "<AxesSubplot: ylabel='Frequency'>"
      ]
     },
     "execution_count": 19,
     "metadata": {},
     "output_type": "execute_result"
    },
    {
     "data": {
      "image/png": "[encoded data removed]",
      "text/plain": [
       "<Figure size 640x480 with 1 Axes>"
      ]
     },
     "metadata": {},
     "output_type": "display_data"
    }
   ],
   "source": [
    "view_data.plot(kind='hist')"
   ]
  },
  {
   "cell_type": "code",
   "execution_count": 20,
   "id": "1dd63e7a",
   "metadata": {},
   "outputs": [
    {
     "data": {
      "text/plain": [
       "<AxesSubplot: >"
      ]
     },
     "execution_count": 20,
     "metadata": {},
     "output_type": "execute_result"
    },
    {
     "data": {
      "image/png": "[encoded data removed]",
      "text/plain": [
       "<Figure size 640x480 with 1 Axes>"
      ]
     },
     "metadata": {},
     "output_type": "display_data"
    }
   ],
   "source": [
    "view_data.plot(kind='box')"
   ]
  },
  {
   "cell_type": "markdown",
   "id": "f0307c4b",
   "metadata": {},
   "source": [
    "## 数据缺失的处理"
   ]
  },
  {
   "cell_type": "code",
   "execution_count": 21,
   "id": "4af10e85",
   "metadata": {},
   "outputs": [
    {
     "name": "stdout",
     "output_type": "stream",
     "text": [
      "<class 'pandas.core.frame.DataFrame'>\n",
      "Int64Index: 17086 entries, 1 to 20547\n",
      "Data columns (total 14 columns):\n",
      " #   Column           Non-Null Count  Dtype  \n",
      "---  ------           --------------  -----  \n",
      " 0   IMDb-rating      16609 non-null  float64\n",
      " 1   appropriate_for  9809 non-null   object \n",
      " 2   director         15520 non-null  object \n",
      " 3   downloads        17085 non-null  object \n",
      " 4   id               17086 non-null  int64  \n",
      " 5   industry         17085 non-null  object \n",
      " 6   language         16552 non-null  object \n",
      " 7   posted_date      17085 non-null  object \n",
      " 8   release_date     17085 non-null  object \n",
      " 9   run_time         16086 non-null  object \n",
      " 10  storyline        15764 non-null  object \n",
      " 11  title            17085 non-null  object \n",
      " 12  views            17085 non-null  object \n",
      " 13  writer           15266 non-null  object \n",
      "dtypes: float64(1), int64(1), object(12)\n",
      "memory usage: 2.0+ MB\n"
     ]
    }
   ],
   "source": [
    "data.info()"
   ]
  },
  {
   "cell_type": "code",
   "execution_count": 23,
   "id": "fdaa892c",
   "metadata": {},
   "outputs": [
    {
     "data": {
      "text/plain": [
       "IMDb-rating         477\n",
       "appropriate_for    7277\n",
       "director           1566\n",
       "downloads             1\n",
       "id                    0\n",
       "industry              1\n",
       "language            534\n",
       "posted_date           1\n",
       "release_date          1\n",
       "run_time           1000\n",
       "storyline          1322\n",
       "title                 1\n",
       "views                 1\n",
       "writer             1820\n",
       "dtype: int64"
      ]
     },
     "execution_count": 23,
     "metadata": {},
     "output_type": "execute_result"
    }
   ],
   "source": [
    "data.isnull().sum()"
   ]
  },
  {
   "cell_type": "markdown",
   "id": "6e34764f",
   "metadata": {},
   "source": [
    "对数据进行分析，appropriate_for是年龄限制\n",
    "\n",
    "这个需要对具体的电影具体分析，不太能通过相关关系和数据对象之间的相似性补充\n",
    "\n",
    "更不能使用最高频率值填充\n",
    "\n",
    "因此直接剔除"
   ]
  },
  {
   "cell_type": "code",
   "execution_count": 24,
   "id": "2c43ee64",
   "metadata": {},
   "outputs": [
    {
     "name": "stdout",
     "output_type": "stream",
     "text": [
      "<class 'pandas.core.frame.DataFrame'>\n",
      "Int64Index: 9809 entries, 1 to 20540\n",
      "Data columns (total 14 columns):\n",
      " #   Column           Non-Null Count  Dtype  \n",
      "---  ------           --------------  -----  \n",
      " 0   IMDb-rating      9797 non-null   float64\n",
      " 1   appropriate_for  9809 non-null   object \n",
      " 2   director         9346 non-null   object \n",
      " 3   downloads        9809 non-null   object \n",
      " 4   id               9809 non-null   int64  \n",
      " 5   industry         9809 non-null   object \n",
      " 6   language         9737 non-null   object \n",
      " 7   posted_date      9809 non-null   object \n",
      " 8   release_date     9809 non-null   object \n",
      " 9   run_time         9703 non-null   object \n",
      " 10  storyline        9269 non-null   object \n",
      " 11  title            9809 non-null   object \n",
      " 12  views            9809 non-null   object \n",
      " 13  writer           9280 non-null   object \n",
      "dtypes: float64(1), int64(1), object(12)\n",
      "memory usage: 1.1+ MB\n"
     ]
    }
   ],
   "source": [
    "data_de = data.dropna(subset=['appropriate_for'])\n",
    "data_de.info()"
   ]
  },
  {
   "cell_type": "code",
   "execution_count": 25,
   "id": "3b442fac",
   "metadata": {},
   "outputs": [
    {
     "data": {
      "text/plain": [
       "IMDb-rating         12\n",
       "appropriate_for      0\n",
       "director           463\n",
       "downloads            0\n",
       "id                   0\n",
       "industry             0\n",
       "language            72\n",
       "posted_date          0\n",
       "release_date         0\n",
       "run_time           106\n",
       "storyline          540\n",
       "title                0\n",
       "views                0\n",
       "writer             529\n",
       "dtype: int64"
      ]
     },
     "execution_count": 25,
     "metadata": {},
     "output_type": "execute_result"
    }
   ],
   "source": [
    "data_de.isnull().sum()"
   ]
  },
  {
   "cell_type": "markdown",
   "id": "3e095743",
   "metadata": {},
   "source": [
    "可以发现，其他的缺少值少了很多，但是director, run_time, storyline还有较多的缺少"
   ]
  },
  {
   "cell_type": "code",
   "execution_count": null,
   "id": "97f7292f",
   "metadata": {},
   "outputs": [],
   "source": []
  }
 ],
 "metadata": {
  "kernelspec": {
   "display_name": "deeplr",
   "language": "python",
   "name": "deeplr"
  },
  "language_info": {
   "codemirror_mode": {
    "name": "ipython",
    "version": 3
   },
   "file_extension": ".py",
   "mimetype": "text/x-python",
   "name": "python",
   "nbconvert_exporter": "python",
   "pygments_lexer": "ipython3",
   "version": "3.9.15"
  }
 },
 "nbformat": 4,
 "nbformat_minor": 5
}
